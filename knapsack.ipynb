{
 "cells": [
  {
   "cell_type": "code",
   "execution_count": 90,
   "id": "c0882a9f",
   "metadata": {},
   "outputs": [],
   "source": [
    "import numpy as np\n",
    "from copy import deepcopy\n",
    "from icecream import ic"
   ]
  },
  {
   "cell_type": "code",
   "execution_count": 91,
   "id": "3adb670e",
   "metadata": {},
   "outputs": [],
   "source": [
    "NUM_KNAPSACKS = 2\n",
    "NUM_ITEMS = 10\n",
    "NUM_DIMENSIONS = 2"
   ]
  },
  {
   "cell_type": "code",
   "execution_count": 92,
   "id": "2db51e99",
   "metadata": {},
   "outputs": [],
   "source": [
    "VALUES = np.random.randint(0, 100, size=NUM_ITEMS) ## valori degli oggetti\n",
    "WEIGHTS = np.random.randint(0, 100, size=(NUM_ITEMS, NUM_DIMENSIONS)) ## pesi degli oggetti (n.b ogni peso ha più dimensioni e i constraint devono essere rispettati in ogni dimensione)\n",
    "CONSTRAINTS = np.random.randint(0, 100 * NUM_ITEMS // NUM_KNAPSACKS, size= (NUM_KNAPSACKS, NUM_DIMENSIONS)) ## tante quante le dimensioni "
   ]
  },
  {
   "cell_type": "code",
   "execution_count": 93,
   "id": "2abb812d",
   "metadata": {},
   "outputs": [
    {
     "data": {
      "text/plain": [
       "array([[ 32, 491],\n",
       "       [436,  25]])"
      ]
     },
     "execution_count": 93,
     "metadata": {},
     "output_type": "execute_result"
    }
   ],
   "source": [
    "CONSTRAINTS\n",
    "# ogni zaino è una riga e ogni colonna è il constraint sulla dimensione"
   ]
  },
  {
   "cell_type": "markdown",
   "id": "8e0e0673",
   "metadata": {},
   "source": [
    "## TEST PROBLEMS"
   ]
  },
  {
   "cell_type": "code",
   "execution_count": 94,
   "id": "5595db9c",
   "metadata": {},
   "outputs": [
    {
     "data": {
      "text/plain": [
       "array([[330, 142],\n",
       "       [171, 526],\n",
       "       [279, 474]])"
      ]
     },
     "execution_count": 94,
     "metadata": {},
     "output_type": "execute_result"
    }
   ],
   "source": [
    "# Problem 1:\n",
    "rng = np.random.default_rng(seed=42)\n",
    "NUM_KNAPSACKS = 3\n",
    "NUM_ITEMS = 20\n",
    "NUM_DIMENSIONS = 2\n",
    "VALUES = np.random.randint(0, 100, size=NUM_ITEMS) \n",
    "WEIGHTS = np.random.randint(0, 100, size=(NUM_ITEMS, NUM_DIMENSIONS)) \n",
    "CONSTRAINTS = np.random.randint(0, 100 * NUM_ITEMS // NUM_KNAPSACKS, size= (NUM_KNAPSACKS, NUM_DIMENSIONS)) \n",
    "CONSTRAINTS"
   ]
  },
  {
   "cell_type": "code",
   "execution_count": 95,
   "id": "9eed08a0",
   "metadata": {},
   "outputs": [
    {
     "data": {
      "text/plain": [
       "array([[8564,    7, 6009, 3399,  910, 9508, 3538, 3768, 7667, 5576],\n",
       "       [4586, 2671, 8713, 6269, 8186, 9916, 3586, 9847, 9871, 6214],\n",
       "       [1847, 6370, 8307, 7875, 7821, 4894, 8313, 5309, 7078, 9364],\n",
       "       [9306, 1827, 8542, 2892, 7718,  282, 4685, 3295, 7650, 3148],\n",
       "       [1319, 2002,  663, 7315, 8022, 8011, 4490, 2885, 8788, 9393],\n",
       "       [8842, 3674, 3849, 4747, 2107, 9793,  668, 8068, 6655, 6114],\n",
       "       [1477, 2943, 4540, 6232, 9380,  453, 7805, 2885,  295,  784],\n",
       "       [4135,  317, 7781, 7248, 3742, 9654,  267, 8388, 1419, 8472],\n",
       "       [4640, 8552, 3387, 9192, 5987, 2780,  257, 5547, 4301, 2922],\n",
       "       [4463, 4774, 8375, 7127, 8882, 4280, 1949, 2014, 9855, 2974]])"
      ]
     },
     "execution_count": 95,
     "metadata": {},
     "output_type": "execute_result"
    }
   ],
   "source": [
    "# Problem 2:\n",
    "rng = np.random.default_rng(seed=42)\n",
    "NUM_KNAPSACKS = 10\n",
    "NUM_ITEMS = 100\n",
    "NUM_DIMENSIONS = 10\n",
    "VALUES = np.random.randint(0, 1000, size=NUM_ITEMS) \n",
    "WEIGHTS = np.random.randint(0, 1000, size=(NUM_ITEMS, NUM_DIMENSIONS)) \n",
    "CONSTRAINTS = np.random.randint(0, 1000 * NUM_ITEMS // NUM_KNAPSACKS, size= (NUM_KNAPSACKS, NUM_DIMENSIONS)) \n",
    "CONSTRAINTS"
   ]
  },
  {
   "cell_type": "code",
   "execution_count": 96,
   "id": "117380d6",
   "metadata": {},
   "outputs": [
    {
     "data": {
      "text/plain": [
       "array([[84199, 23839, 43712, ..., 67017, 43782, 76374],\n",
       "       [77574, 29421, 14305, ..., 86052, 17557, 17648],\n",
       "       [25014, 51326, 96197, ..., 96617, 46880, 28135],\n",
       "       ...,\n",
       "       [88236, 71329, 19493, ..., 17401, 78968, 93867],\n",
       "       [66547, 40635, 64727, ..., 66755, 47390, 29196],\n",
       "       [27902, 39746, 40190, ..., 37231, 41954, 17517]])"
      ]
     },
     "execution_count": 96,
     "metadata": {},
     "output_type": "execute_result"
    }
   ],
   "source": [
    "# Problem 3:\n",
    "rng = np.random.default_rng(seed=42)\n",
    "NUM_KNAPSACKS = 100\n",
    "NUM_ITEMS = 5000\n",
    "NUM_DIMENSIONS = 100\n",
    "VALUES = np.random.randint(0, 1000, size=NUM_ITEMS) \n",
    "WEIGHTS = np.random.randint(0, 1000, size=(NUM_ITEMS, NUM_DIMENSIONS)) \n",
    "CONSTRAINTS = np.random.randint(1000 * 10, 1000 * 2 * NUM_ITEMS // NUM_KNAPSACKS, size= (NUM_KNAPSACKS, NUM_DIMENSIONS)) \n",
    "CONSTRAINTS\n"
   ]
  },
  {
   "cell_type": "markdown",
   "id": "73ff7771",
   "metadata": {},
   "source": [
    "SOLUTION"
   ]
  },
  {
   "cell_type": "code",
   "execution_count": 97,
   "id": "0f9b57bb",
   "metadata": {},
   "outputs": [],
   "source": [
    "# not used\n",
    "def enforce_unique_assignment(sol):\n",
    "    for i in range(NUM_ITEMS):\n",
    "        assigned = np.where(sol[:, i])[0]\n",
    "        if len(assigned) > 1:\n",
    "            keep = np.random.choice(assigned)\n",
    "            sol[:, i] = False\n",
    "            sol[keep, i] = True\n",
    "    return sol"
   ]
  },
  {
   "cell_type": "code",
   "execution_count": 98,
   "id": "2ad0c933",
   "metadata": {},
   "outputs": [],
   "source": [
    "\"\"\" Check if the solution is valid\n",
    "def check_validity(solution)-> bool:\n",
    "    valid_per_bag = []\n",
    "    for b in range(NUM_KNAPSACKS):\n",
    "        # seleziona gli item presenti nello zaino b\n",
    "        items_in_b = np.where(solution[b])[0]            # indici degli item presenti\n",
    "        total_weight = WEIGHTS[items_in_b].sum(axis=0)   # somma per dimensione\n",
    "        valid_per_bag.append(np.all(total_weight <= CONSTRAINTS[b]))\n",
    "\n",
    "    overall_valid = all(valid_per_bag)\n",
    "    return overall_valid\"\"\"\n",
    "# to avoid too many loops, we can use matrix multiplication\n",
    "def check_validity(solution: np.ndarray) -> bool:\n",
    "    weights_per_bag = solution.astype(int) @ WEIGHTS\n",
    "    return np.all(weights_per_bag <= CONSTRAINTS)\n"
   ]
  },
  {
   "cell_type": "code",
   "execution_count": 99,
   "id": "b18cf052",
   "metadata": {},
   "outputs": [],
   "source": [
    "\n",
    "\n",
    "def tweak_non_valid_A(knapsacs:  list[set] ) -> list[set]:\n",
    "    ## remove objects from all the knapsacks that are in overweight\n",
    "    #new_bags = deepcopy(knapsacs) --> we can use copy, more efficient respect to deepcopy that is a slow operation in python\n",
    "    new_bags = knapsacs.copy()\n",
    "    #overweight knapsacks (bags)\n",
    "    weights_per_bag = new_bags.astype(int).dot(WEIGHTS)\n",
    "    overweight_mask = weights_per_bag > CONSTRAINTS\n",
    "    overweight_bags = np.where(np.any(overweight_mask, axis=1))[0]\n",
    "\n",
    "    \"\"\"for b in overweight_bags:\n",
    "    \n",
    "        items_in_bag = np.where(new_bags[b])[0]\n",
    "        \n",
    "        if len(items_in_bag) > 0:\n",
    "            item_to_remove = np.random.choice(items_in_bag)\n",
    "            new_bags[b][item_to_remove] = False \n",
    "    return new_bags\"\"\"\n",
    "    # continue removing items until all knapsacks are valid, it's more efficient\n",
    "    for b in overweight_bags:\n",
    "        while True:\n",
    "            total_weight = new_bags[b].astype(int) @ WEIGHTS\n",
    "            if np.all(total_weight <= CONSTRAINTS[b]):\n",
    "                break\n",
    "            items_in_bag = np.where(new_bags[b])[0]\n",
    "            if len(items_in_bag) == 0:\n",
    "                break\n",
    "            item_to_remove = np.random.choice(items_in_bag)\n",
    "            new_bags[b, item_to_remove] = False\n",
    "    return new_bags\n",
    "#changed from list[set] to np.ndarray for efficiency\n",
    "def tweak_valid_A(knapsack: np.ndarray) -> np.ndarray:\n",
    "    ## it estract a knapsac and an element if it is on the knapsac it swap it with another element not in the knapsac\n",
    "    #new_bags = deepcopy(knapsack) --> we can use copy, more efficient respect to deepcopy that is a slow operation in python\n",
    "    new_bags = knapsack.copy()\n",
    "    b = np.random.randint(0, NUM_KNAPSACKS)\n",
    "    item= np.random.randint(0, NUM_ITEMS)\n",
    "\n",
    "    \n",
    "    items_in_selected_bag = np.where(new_bags[b])[0]\n",
    "    items_in_other_bags = np.where(np.any(new_bags[np.arange(NUM_KNAPSACKS) != b], axis=0))[0]\n",
    "    \n",
    "    if item in items_in_selected_bag:\n",
    "        ## remove it from the selected knapsack\n",
    "        new_bags[b][item] = False\n",
    "        ## add the item not in another knapsack \n",
    "        other_bags = [i for i in range(NUM_KNAPSACKS) if i != b]\n",
    "        new_b = np.random.choice(other_bags)\n",
    "        new_bags[new_b][item] = True\n",
    "    else :\n",
    "        ## add it to the selected knapsack\n",
    "        new_bags[b][item] = True  \n",
    "        if item in items_in_other_bags:\n",
    "            ## remove from the knapsack that currently  has it\n",
    "            knapsack_having_i = np.where(new_bags[:, item])[0][0]\n",
    "            new_bags[knapsack_having_i][item] = False\n",
    "            \n",
    "        elif not check_validity(new_bags) :\n",
    "            ##if the item is not in any knapsack\n",
    "            ## remove a random item from the selected knapsack \n",
    "            if len(items_in_selected_bag) > 0:\n",
    "                item_to_remove = np.random.choice(items_in_selected_bag)\n",
    "                new_bags[b][item_to_remove] = False\n",
    "\n",
    "    return new_bags"
   ]
  },
  {
   "cell_type": "code",
   "execution_count": 100,
   "id": "7a9303d1",
   "metadata": {},
   "outputs": [],
   "source": [
    "def cost(solution: list[set]) -> tuple[float, float, bool]:\n",
    "\n",
    "    weights_per_bag = solution.astype(int).dot(WEIGHTS)  \n",
    "    total_overweight = weights_per_bag - CONSTRAINTS\n",
    "    total_value = np.sum(solution.astype(int).dot(VALUES))\n",
    "  \n",
    "    valid = not np.any(total_overweight > 0)\n",
    "\n",
    "    # penality: sum of overweights\n",
    "    penalty = np.sum(np.maximum(0, total_overweight))\n",
    "    # fitness\n",
    "    alpha = 10\n",
    "    fitness = total_value - alpha * penalty\n",
    "\n",
    "    return fitness, penalty, valid"
   ]
  },
  {
   "cell_type": "code",
   "execution_count": 101,
   "id": "15ec7d59",
   "metadata": {},
   "outputs": [
    {
     "data": {
      "text/plain": [
       "array([[False, False, False, ..., False, False, False],\n",
       "       [False, False, False, ..., False, False, False],\n",
       "       [False, False, False, ..., False, False, False],\n",
       "       ...,\n",
       "       [False, False, False, ..., False, False, False],\n",
       "       [False, False, False, ..., False, False, False],\n",
       "       [False, False, False, ..., False, False, False]])"
      ]
     },
     "execution_count": 101,
     "metadata": {},
     "output_type": "execute_result"
    }
   ],
   "source": [
    "#random solution\n",
    "current_solution = np.zeros((NUM_KNAPSACKS, NUM_ITEMS), dtype=bool)\n",
    "for item in range(NUM_ITEMS):\n",
    "    if np.random.random() < 0.5:  # probabilità di assegnare l'oggetto\n",
    "        knapsack = np.random.randint(NUM_KNAPSACKS)\n",
    "        current_solution[knapsack, item] = True\n",
    "first_solution = deepcopy(current_solution)\n",
    "first_solution\n"
   ]
  },
  {
   "cell_type": "code",
   "execution_count": 102,
   "id": "2bbe1e02",
   "metadata": {},
   "outputs": [
    {
     "name": "stderr",
     "output_type": "stream",
     "text": [
      "\u001b[38;5;247mic\u001b[39m\u001b[38;5;245m|\u001b[39m\u001b[38;5;245m \u001b[39m\u001b[38;5;247msteps\u001b[39m\u001b[38;5;245m:\u001b[39m\u001b[38;5;245m \u001b[39m\u001b[38;5;36m0\u001b[39m\u001b[38;5;245m,\u001b[39m\u001b[38;5;245m \u001b[39m\u001b[38;5;247mcurrent_fitness\u001b[39m\u001b[38;5;245m:\u001b[39m\u001b[38;5;245m \u001b[39m\u001b[38;5;245m-\u001b[39m\u001b[38;5;36m5599795\u001b[39m\n",
      "\u001b[38;5;247mic\u001b[39m\u001b[38;5;245m|\u001b[39m\u001b[38;5;245m \u001b[39m\u001b[38;5;247msteps\u001b[39m\u001b[38;5;245m:\u001b[39m\u001b[38;5;245m \u001b[39m\u001b[38;5;36m1000\u001b[39m\u001b[38;5;245m,\u001b[39m\u001b[38;5;245m \u001b[39m\u001b[38;5;247mcurrent_fitness\u001b[39m\u001b[38;5;245m:\u001b[39m\u001b[38;5;245m \u001b[39m\u001b[38;5;36m1108121\u001b[39m\n",
      "\u001b[38;5;247mic\u001b[39m\u001b[38;5;245m|\u001b[39m\u001b[38;5;245m \u001b[39m\u001b[38;5;247msteps\u001b[39m\u001b[38;5;245m:\u001b[39m\u001b[38;5;245m \u001b[39m\u001b[38;5;36m2000\u001b[39m\u001b[38;5;245m,\u001b[39m\u001b[38;5;245m \u001b[39m\u001b[38;5;247mcurrent_fitness\u001b[39m\u001b[38;5;245m:\u001b[39m\u001b[38;5;245m \u001b[39m\u001b[38;5;36m1180260\u001b[39m\n",
      "\u001b[38;5;247mic\u001b[39m\u001b[38;5;245m|\u001b[39m\u001b[38;5;245m \u001b[39m\u001b[38;5;247msteps\u001b[39m\u001b[38;5;245m:\u001b[39m\u001b[38;5;245m \u001b[39m\u001b[38;5;36m3000\u001b[39m\u001b[38;5;245m,\u001b[39m\u001b[38;5;245m \u001b[39m\u001b[38;5;247mcurrent_fitness\u001b[39m\u001b[38;5;245m:\u001b[39m\u001b[38;5;245m \u001b[39m\u001b[38;5;36m1236680\u001b[39m\n",
      "\u001b[38;5;247mic\u001b[39m\u001b[38;5;245m|\u001b[39m\u001b[38;5;245m \u001b[39m\u001b[38;5;247msteps\u001b[39m\u001b[38;5;245m:\u001b[39m\u001b[38;5;245m \u001b[39m\u001b[38;5;36m4000\u001b[39m\u001b[38;5;245m,\u001b[39m\u001b[38;5;245m \u001b[39m\u001b[38;5;247mcurrent_fitness\u001b[39m\u001b[38;5;245m:\u001b[39m\u001b[38;5;245m \u001b[39m\u001b[38;5;36m1282524\u001b[39m\n",
      "\u001b[38;5;247mic\u001b[39m\u001b[38;5;245m|\u001b[39m\u001b[38;5;245m \u001b[39m\u001b[38;5;247msteps\u001b[39m\u001b[38;5;245m:\u001b[39m\u001b[38;5;245m \u001b[39m\u001b[38;5;36m5000\u001b[39m\u001b[38;5;245m,\u001b[39m\u001b[38;5;245m \u001b[39m\u001b[38;5;247mcurrent_fitness\u001b[39m\u001b[38;5;245m:\u001b[39m\u001b[38;5;245m \u001b[39m\u001b[38;5;36m1327936\u001b[39m\n",
      "\u001b[38;5;247mic\u001b[39m\u001b[38;5;245m|\u001b[39m\u001b[38;5;245m \u001b[39m\u001b[38;5;247msteps\u001b[39m\u001b[38;5;245m:\u001b[39m\u001b[38;5;245m \u001b[39m\u001b[38;5;36m6000\u001b[39m\u001b[38;5;245m,\u001b[39m\u001b[38;5;245m \u001b[39m\u001b[38;5;247mcurrent_fitness\u001b[39m\u001b[38;5;245m:\u001b[39m\u001b[38;5;245m \u001b[39m\u001b[38;5;36m1362120\u001b[39m\n",
      "\u001b[38;5;247mic\u001b[39m\u001b[38;5;245m|\u001b[39m\u001b[38;5;245m \u001b[39m\u001b[38;5;247msteps\u001b[39m\u001b[38;5;245m:\u001b[39m\u001b[38;5;245m \u001b[39m\u001b[38;5;36m7000\u001b[39m\u001b[38;5;245m,\u001b[39m\u001b[38;5;245m \u001b[39m\u001b[38;5;247mcurrent_fitness\u001b[39m\u001b[38;5;245m:\u001b[39m\u001b[38;5;245m \u001b[39m\u001b[38;5;36m1395602\u001b[39m\n",
      "\u001b[38;5;247mic\u001b[39m\u001b[38;5;245m|\u001b[39m\u001b[38;5;245m \u001b[39m\u001b[38;5;247msteps\u001b[39m\u001b[38;5;245m:\u001b[39m\u001b[38;5;245m \u001b[39m\u001b[38;5;36m8000\u001b[39m\u001b[38;5;245m,\u001b[39m\u001b[38;5;245m \u001b[39m\u001b[38;5;247mcurrent_fitness\u001b[39m\u001b[38;5;245m:\u001b[39m\u001b[38;5;245m \u001b[39m\u001b[38;5;36m1418947\u001b[39m\n"
     ]
    }
   ],
   "source": [
    "\n",
    "\n",
    "(current_fitness, current_cost, current_valid) = cost(current_solution)\n",
    "\n",
    "MAX_STEPS = 10000\n",
    "\n",
    "\n",
    "for steps in range(MAX_STEPS):\n",
    "    if steps % 1000==0:\n",
    "         ic(steps,current_fitness)\n",
    "    \n",
    "    if current_valid:\n",
    "        ## valid solution\n",
    "        new_solution = tweak_valid_A(current_solution)\n",
    "        (new_fitness, new_cost, new_valid) = cost(new_solution)\n",
    "        if new_valid:\n",
    "            if new_fitness>= current_fitness: \n",
    "                current_cost= new_cost\n",
    "                current_fitness= new_fitness\n",
    "                current_solution = new_solution\n",
    "                current_valid= new_valid\n",
    "                continue\n",
    "\n",
    "    else: \n",
    "        ## invalid solution\n",
    "        new_solution = tweak_non_valid_A(current_solution)\n",
    "        (new_fitness, new_cost, new_valid) = cost(new_solution)\n",
    "\n",
    "        if not new_valid: \n",
    "            \n",
    "        #still invalid solution \n",
    "            if new_cost < current_cost or (new_cost== current_cost and new_fitness>=current_fitness): \n",
    "                # new solution is closer to being valid\n",
    "                current_cost = new_cost\n",
    "                current_solution = new_solution\n",
    "                current_fitness= new_fitness\n",
    "                current_valid= new_valid\n",
    "                continue\n",
    "            else:\n",
    "                continue\n",
    "        else:\n",
    "            ## new solution is valid so it's better \n",
    "            current_cost = new_cost\n",
    "            current_solution = new_solution\n",
    "            current_fitness= new_fitness\n",
    "            current_valid= new_valid\n",
    "            continue\n",
    "\n",
    "    \n",
    "\n",
    "print(current_cost, current_fitness, current_valid)\n",
    "\n"
   ]
  },
  {
   "cell_type": "code",
   "execution_count": null,
   "id": "01f04a97",
   "metadata": {},
   "outputs": [
    {
     "data": {
      "text/plain": [
       "1453587"
      ]
     },
     "execution_count": 45,
     "metadata": {},
     "output_type": "execute_result"
    }
   ],
   "source": [
    "current_fitness"
   ]
  },
  {
   "cell_type": "code",
   "execution_count": null,
   "id": "370ee598",
   "metadata": {},
   "outputs": [
    {
     "data": {
      "text/plain": [
       "array([[False, False, False, ..., False, False, False],\n",
       "       [False, False, False, ..., False, False, False],\n",
       "       [False, False, False, ..., False, False, False],\n",
       "       ...,\n",
       "       [False, False, False, ..., False, False, False],\n",
       "       [False, False, False, ..., False, False, False],\n",
       "       [False, False, False, ..., False, False, False]])"
      ]
     },
     "execution_count": 46,
     "metadata": {},
     "output_type": "execute_result"
    }
   ],
   "source": [
    "solution=current_solution\n",
    "solution"
   ]
  },
  {
   "cell_type": "code",
   "execution_count": null,
   "id": "69c75aeb",
   "metadata": {},
   "outputs": [
    {
     "data": {
      "text/plain": [
       "True"
      ]
     },
     "execution_count": 47,
     "metadata": {},
     "output_type": "execute_result"
    }
   ],
   "source": [
    "\n",
    "check_validity(solution)"
   ]
  },
  {
   "cell_type": "code",
   "execution_count": null,
   "id": "912e1477",
   "metadata": {},
   "outputs": [
    {
     "data": {
      "text/plain": [
       "True"
      ]
     },
     "execution_count": 48,
     "metadata": {},
     "output_type": "execute_result"
    }
   ],
   "source": [
    "# Check that the same object does not appear in multiple knapsacks\n",
    "np.all(solution.sum(axis=0) <= 1)"
   ]
  },
  {
   "cell_type": "code",
   "execution_count": null,
   "id": "5356ef26",
   "metadata": {},
   "outputs": [
    {
     "data": {
      "text/plain": [
       "(array([[13.59655617, 31.86302302, 11.24846977, ..., 36.60211044,\n",
       "         18.66986693, 17.193682  ],\n",
       "        [63.31698933, 14.95676077, 11.37486367, ..., 14.28331416,\n",
       "         14.61094252, 55.71919258],\n",
       "        [24.79548782, 16.26602762, 84.00930851, ..., 15.67982207,\n",
       "         23.13383375, 82.01268743],\n",
       "        ...,\n",
       "        [78.56373022, 25.13293231, 99.44802923, ..., 38.09446781,\n",
       "         13.51970006, 23.78717699],\n",
       "        [ 8.05922454, 13.31272238, 50.69146027, ..., 10.85654154,\n",
       "         73.81414534, 36.44207551],\n",
       "        [47.95553618, 17.8858687 , 13.59164339, ..., 21.5540853 ,\n",
       "         39.09076608, 22.25543898]]),\n",
       " 1453587)"
      ]
     },
     "execution_count": 49,
     "metadata": {},
     "output_type": "execute_result"
    }
   ],
   "source": [
    "def solution_evaluation(solution):\n",
    "    total_value = 0\n",
    "    percentage_weight_over_constraint = np.zeros((NUM_KNAPSACKS, NUM_DIMENSIONS))\n",
    "\n",
    "    for b in range(NUM_KNAPSACKS): \n",
    "        knapsack_weight = np.zeros(NUM_DIMENSIONS)\n",
    "        knapsack_value = 0\n",
    "        for i in range(NUM_ITEMS):\n",
    "            if solution[b][i]:\n",
    "                knapsack_value += VALUES[i]\n",
    "                knapsack_weight += WEIGHTS[i]\n",
    "        total_value += knapsack_value\n",
    "        percentage_weight_over_constraint[b] = knapsack_weight*100/CONSTRAINTS[b]\n",
    "\n",
    "\n",
    "    return percentage_weight_over_constraint, total_value\n",
    "\n",
    "solution_evaluation(solution)"
   ]
  },
  {
   "cell_type": "markdown",
   "id": "eb6d7ec8",
   "metadata": {},
   "source": [
    "## comment:\n",
    "After testing several approaches, I found that a more \"explorative\" tweak (tweak valid) function with fewer constraints performs better, as it helps avoid stagnation or early stalling. "
   ]
  }
 ],
 "metadata": {
  "kernelspec": {
   "display_name": "Python 3",
   "language": "python",
   "name": "python3"
  },
  "language_info": {
   "codemirror_mode": {
    "name": "ipython",
    "version": 3
   },
   "file_extension": ".py",
   "mimetype": "text/x-python",
   "name": "python",
   "nbconvert_exporter": "python",
   "pygments_lexer": "ipython3",
   "version": "3.13.5"
  }
 },
 "nbformat": 4,
 "nbformat_minor": 5
}
